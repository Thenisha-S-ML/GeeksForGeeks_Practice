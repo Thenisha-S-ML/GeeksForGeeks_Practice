{
 "cells": [
  {
   "cell_type": "code",
   "execution_count": 1,
   "id": "7c925fd6-c94b-4ca9-a1d0-a4adf30f35a7",
   "metadata": {},
   "outputs": [
    {
     "name": "stdout",
     "output_type": "stream",
     "text": [
      "2024-08-25 10:15:23 INFO Starting the application\n",
      "2024-08-25 10:16:45 WARN Low memory warning\n",
      "2024-08-25 10:17:10 ERROR Unable to connect to database\n",
      "2024-08-25 10:20:00 INFO Application shutdown\n",
      "2024-08-25 10:21:30 INFO Backup completed successfully\n",
      "\n"
     ]
    }
   ],
   "source": [
    "fileread=open(\"files.txt\",'r')\n",
    "data=fileread.read()\n",
    "print(data)\n",
    "fileread.close()"
   ]
  },
  {
   "cell_type": "code",
   "execution_count": 2,
   "id": "bab04b49-7a37-4b37-b9bc-c400fb4f9118",
   "metadata": {},
   "outputs": [
    {
     "name": "stdout",
     "output_type": "stream",
     "text": [
      "2024-08-25 10:15:23 INFO Starting the application\n",
      "\n"
     ]
    }
   ],
   "source": [
    "fileread=open(\"files.txt\",'r')\n",
    "data=fileread.readline()\n",
    "print(data)\n",
    "fileread.close()"
   ]
  },
  {
   "cell_type": "code",
   "execution_count": 3,
   "id": "d07f8906-baf1-4338-96cb-c20384f57ded",
   "metadata": {},
   "outputs": [
    {
     "name": "stdout",
     "output_type": "stream",
     "text": [
      "['2024-08-25 10:15:23 INFO Starting the application\\n', '2024-08-25 10:16:45 WARN Low memory warning\\n', '2024-08-25 10:17:10 ERROR Unable to connect to database\\n', '2024-08-25 10:20:00 INFO Application shutdown\\n', '2024-08-25 10:21:30 INFO Backup completed successfully\\n']\n"
     ]
    }
   ],
   "source": [
    "fileread=open(\"files.txt\",'r')\n",
    "data=fileread.readlines()\n",
    "print(data)\n",
    "fileread.close()"
   ]
  },
  {
   "cell_type": "code",
   "execution_count": 11,
   "id": "e77c0671-df9d-46ab-a90d-f7ff1e81ffdf",
   "metadata": {},
   "outputs": [
    {
     "name": "stdout",
     "output_type": "stream",
     "text": [
      "2\n"
     ]
    }
   ],
   "source": [
    "#Minimum product of k integers\n",
    "def minProduct(arr,k):\n",
    "    mod=10**9+7\n",
    "    arr.sort()\n",
    "    product=1\n",
    "    if k > len(arr):\n",
    "        for i in range(len(arr)):\n",
    "            product=product*arr[i]\n",
    "        return product%mod\n",
    "    else:\n",
    "        for i in range(0,k):\n",
    "            product=product*arr[i]\n",
    "        return product%mod \n",
    "arr=[1,2,3,4,5]\n",
    "k=2\n",
    "res=minProduct(arr,k)\n",
    "print(res)"
   ]
  },
  {
   "cell_type": "code",
   "execution_count": 14,
   "id": "cc45bef9-7b08-4e87-a515-e78058fd3b8f",
   "metadata": {},
   "outputs": [
    {
     "name": "stdout",
     "output_type": "stream",
     "text": [
      "20\n"
     ]
    }
   ],
   "source": [
    "#Minimum Difference among K\n",
    "def mindiff(arr,k):\n",
    "    arr.sort()\n",
    "    res=float('inf')\n",
    "    for i in range(len(arr)-k+1):\n",
    "        curr=arr[i+k-1]-arr[i]\n",
    "        res=min(res,curr)\n",
    "    return res\n",
    "arr=[10,100,300,200,100,20,30]\n",
    "k=3\n",
    "res=mindiff(arr,k)\n",
    "print(res)"
   ]
  },
  {
   "cell_type": "code",
   "execution_count": 19,
   "id": "9eefe707-d5a6-4118-b696-b20e19ca00af",
   "metadata": {},
   "outputs": [
    {
     "name": "stdout",
     "output_type": "stream",
     "text": [
      "1 3 "
     ]
    }
   ],
   "source": [
    "#Alternates in an Array\n",
    "arr = [1, 2, 3, 4]\n",
    "res=[arr[i] for i in range(len(arr)) if i % 2 == 0]\n",
    "for num in res:\n",
    "    print(num,end=\" \")"
   ]
  },
  {
   "cell_type": "code",
   "execution_count": 23,
   "id": "85e478b8-bac9-4b48-bb80-609c39cdda1f",
   "metadata": {},
   "outputs": [
    {
     "name": "stdout",
     "output_type": "stream",
     "text": [
      "5\n"
     ]
    }
   ],
   "source": [
    "#find unique elements\n",
    "#Given an array of elements occurring in multiples of k, except one element which doesn't occur in multiple of k. Return the unique element.from \n",
    "from collections import Counter\n",
    "k = 3\n",
    "arr = [6, 2, 5, 2, 2, 6, 6]\n",
    "count=Counter(arr)\n",
    "for keys,values in count.items():\n",
    "    if values  % k != 0:\n",
    "        print(keys)"
   ]
  },
  {
   "cell_type": "code",
   "execution_count": null,
   "id": "798860a8-4ff7-40d0-8df0-686e268d92aa",
   "metadata": {},
   "outputs": [],
   "source": []
  }
 ],
 "metadata": {
  "kernelspec": {
   "display_name": "Python 3 (ipykernel)",
   "language": "python",
   "name": "python3"
  },
  "language_info": {
   "codemirror_mode": {
    "name": "ipython",
    "version": 3
   },
   "file_extension": ".py",
   "mimetype": "text/x-python",
   "name": "python",
   "nbconvert_exporter": "python",
   "pygments_lexer": "ipython3",
   "version": "3.12.3"
  }
 },
 "nbformat": 4,
 "nbformat_minor": 5
}
